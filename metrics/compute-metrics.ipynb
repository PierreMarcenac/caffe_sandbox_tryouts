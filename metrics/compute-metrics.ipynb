{
 "cells": [
  {
   "cell_type": "code",
   "execution_count": 2,
   "metadata": {
    "collapsed": false
   },
   "outputs": [],
   "source": [
    "import numpy as np\n",
    "import h5py\n",
    "import lmdb\n",
    "import caffe\n",
    "from eval.inference import infer_to_h5_fixed_dims\n",
    "from iow import read_lmdb, to_lmdb\n",
    "from iow.lmdb_utils import MAP_SZ, IDX_FMT\n",
    "from blobs.mat_utils import expand_dims"
   ]
  },
  {
   "cell_type": "code",
   "execution_count": 3,
   "metadata": {
    "collapsed": false
   },
   "outputs": [
    {
     "data": {
      "text/plain": [
       "[100]"
      ]
     },
     "execution_count": 3,
     "metadata": {},
     "output_type": "execute_result"
    }
   ],
   "source": [
    "def path_to(path):\n",
    "    return base_path + path\n",
    "base_path = '/mnt/scratch/pierre/caffe_sandbox_tryouts/'\n",
    "fpath_net = path_to('learning_curve/prototxt/net0_test.prototxt')\n",
    "fpath_weights = path_to('learning_curve/snapshots/net0_snapshot_iter_10000.caffemodel')\n",
    "fpath_db = path_to('inference/mnist_%s_train_lmdb')\n",
    "fpath_dst = path_to('inference/db.h5')\n",
    "\n",
    "net = caffe.Net(fpath_net, fpath_weights, caffe.TEST) # or caffe.TRAIN\n",
    "keys = ['accuracy']\n",
    "n = 100\n",
    "\n",
    "infer_to_h5_fixed_dims(net, keys, n, fpath_dst, preserve_batch=True)"
   ]
  },
  {
   "cell_type": "code",
   "execution_count": 62,
   "metadata": {
    "collapsed": false
   },
   "outputs": [
    {
     "name": "stdout",
     "output_type": "stream",
     "text": [
      "label 8.0\n",
      "label_data_1_split_0 8.0\n",
      "label_data_1_split_1 8.0\n",
      "fc1 [-1.23041511 -1.47406483  2.29490113 -2.00914955 -0.61503345  1.0857265\n",
      " -2.60216951 -3.27017665 -1.56690454  1.36369002  0.0062819   0.87156957\n",
      "  1.87490773  2.15755987  2.20640016 -1.9203403  -0.76069725  0.22655986\n",
      " -1.32125497  3.28743386  1.5807426   1.11090732 -0.88687688  3.02278304\n",
      " -2.47363067  0.72018868  1.02886331 -1.25145483  1.6719054  -0.64129353\n",
      " -0.12661529 -3.61808348 -1.09233677 -2.00988102  0.77568561 -0.22447476\n",
      " -1.80748129 -2.67294502 -1.58403552 -0.23509668 -1.02196229 -1.35729921\n",
      " -0.76598269  1.76095688  0.08710995  1.40730906  0.0184609   1.48187971\n",
      "  1.81837654  0.82379246]\n",
      "sig1 [ 0.22610877  0.18632556  0.90845388  0.11824562  0.35091186  0.74757612\n",
      "  0.06899893  0.0366086   0.17265812  0.79635876  0.50157046  0.70507216\n",
      "  0.86702514  0.89637309  0.90082276  0.12782362  0.31849492  0.55639893\n",
      "  0.21060957  0.96399522  0.82930964  0.75229824  0.29175475  0.95359284\n",
      "  0.07772757  0.67264855  0.73669547  0.22244841  0.84182972  0.34495419\n",
      "  0.46838841  0.02613281  0.2511785   0.11816937  0.68474954  0.44411579\n",
      "  0.14094281  0.06458881  0.17022471  0.44149506  0.26464534  0.20467961\n",
      "  0.31734878  0.85332948  0.52176374  0.80334115  0.50461507  0.81485635\n",
      "  0.86037123  0.69504076]\n",
      "fc2 [ 0.91096401 -0.52467054  0.44296178  1.43726099  1.31083262 -0.01038734\n",
      " -1.40331221 -1.13769591 -0.39507151  0.76294041 -0.79750025 -0.64508331\n",
      "  0.21115786  0.77828932 -1.24851286 -1.58920228  0.9262228   1.63467693\n",
      "  0.83435404  0.19607946 -0.05057914 -1.23072183  0.9409281   0.267028\n",
      "  0.66822946  0.51764226  1.09478545 -1.12322986  0.04664336  1.27443731\n",
      " -1.3029238   0.15049754  1.7157923   0.68566072 -1.24285138 -1.40532255\n",
      " -0.34795851  1.46617973 -0.52127302  0.71040767  0.56408018 -0.1525591\n",
      " -0.33371365 -0.49105453  1.20163107  0.68057299  0.38659662  0.56536001\n",
      " -1.20184767 -0.78578532]\n",
      "sig2 [ 0.71319741  0.37176076  0.60896456  0.80803013  0.78765243  0.49740317\n",
      "  0.19729105  0.24274364  0.40249702  0.68199182  0.31056049  0.34409836\n",
      "  0.55259418  0.68531132  0.22295767  0.16949616  0.71630836  0.83680934\n",
      "  0.6972748   0.54886341  0.48735791  0.22605512  0.7192871   0.56636316\n",
      "  0.66110659  0.62659627  0.74928176  0.24541266  0.51165873  0.78150141\n",
      "  0.21367335  0.53755355  0.84758604  0.66500092  0.22394006  0.19697286\n",
      "  0.41387758  0.81247604  0.3725546   0.67049122  0.6373961   0.46193403\n",
      "  0.4173373   0.37964517  0.7688148   0.66386658  0.59546316  0.63769186\n",
      "  0.23114669  0.31307435]\n",
      "score [-2.95980096  1.6002717   1.1553905   0.15684325 -1.66213918  2.45460629\n",
      "  0.91644949 -4.48493528  5.3852663  -1.80807197]\n",
      "score_score_0_split_0 [-2.95980096  1.6002717   1.1553905   0.15684325 -1.66213918  2.45460629\n",
      "  0.91644949 -4.48493528  5.3852663  -1.80807197]\n",
      "score_score_0_split_1 [-2.95980096  1.6002717   1.1553905   0.15684325 -1.66213918  2.45460629\n",
      "  0.91644949 -4.48493528  5.3852663  -1.80807197]\n"
     ]
    }
   ],
   "source": [
    "for layer_name, layer_data in net.blobs.items():\n",
    "    if layer_name <> 'accuracy' and layer_name <> 'loss' and layer_name <> 'data':\n",
    "        print layer_name, layer_data.data[0]"
   ]
  },
  {
   "cell_type": "code",
   "execution_count": 42,
   "metadata": {
    "collapsed": false
   },
   "outputs": [
    {
     "name": "stdout",
     "output_type": "stream",
     "text": [
      "[ 0.97000003  0.98000002  0.94999999  0.89999998  0.92000002  0.88999999\n",
      "  0.94        0.94999999  0.94999999  0.91000003  0.92000002  0.88\n",
      "  0.85000002  0.92000002  0.91000003  0.88999999  0.88        0.88        0.94\n",
      "  0.88        0.88999999  0.89999998  0.94        0.92000002  0.93000001\n",
      "  0.93000001  0.93000001  0.94        0.93000001  0.89999998  0.97000003\n",
      "  0.88999999  0.94        0.94999999  0.94        0.91000003  0.94\n",
      "  0.88999999  0.82999998  0.88999999  0.91000003  0.93000001  0.89999998\n",
      "  0.92000002  0.92000002  0.94        0.94999999  0.94999999  0.86000001\n",
      "  0.94        0.93000001  0.95999998  0.98000002  0.99000001  0.95999998\n",
      "  0.99000001  0.92000002  0.97000003  0.91000003  0.92000002  0.91000003\n",
      "  0.94        1.          0.94        0.94999999  0.89999998  0.92000002\n",
      "  0.89999998  0.99000001  0.97000003  1.          0.99000001  0.97000003\n",
      "  0.99000001  0.94        0.97000003  1.          0.99000001  0.87\n",
      "  0.93000001  0.92000002  0.99000001  0.94        0.98000002  0.97000003\n",
      "  0.95999998  1.          1.          0.99000001  1.          0.91000003\n",
      "  1.          0.97000003  0.99000001  0.94999999  0.94999999  0.91000003\n",
      "  0.81999999  0.87        0.94      ]\n"
     ]
    }
   ],
   "source": [
    "def hdf5_reader(file_name, key):\n",
    "    f = h5py.File(file_name, 'r') # open read-only\n",
    "    group = f[key]\n",
    "    if isinstance(group, h5py.Dataset):\n",
    "        yield group.value\n",
    "    else:\n",
    "        for key, value in dict(group).iteritems():\n",
    "            datum = caffe.proto.caffe_pb2.Datum()\n",
    "            datum.ParseFromString(value)\n",
    "            label = int(datum.label)\n",
    "            image = caffe.io.datum_to_array(datum).astype(np.uint8)\n",
    "            yield key, flat_shape(image), label\n",
    "\n",
    "for value in hdf5_reader('../inference/db.h5', 'accuracy'):\n",
    "    print value"
   ]
  },
  {
   "cell_type": "code",
   "execution_count": null,
   "metadata": {
    "collapsed": true
   },
   "outputs": [],
   "source": [
    "# accuracy, roc curves, precision recall, confusion matrix\n",
    "from sklearn.metrics import accuracy_score, roc_curve, precision_recall_curve, confusion_matrix\n",
    "\n",
    "accuracy_score(y_true, y_pred)\n",
    "fpr, tpr, thresholds = metrics.roc_curve(y_true, y_score, pos_label=2)\n",
    "precision, recall, thresholds = precision_recall_curve(y_true, y_score)\n",
    "confusion_matrix(y_true, y_pred, labels=[0., 1., 2., 3., 4., 5., 6., 7., 8., 9.]) # np.arange(0, 10, 1.)\n",
    "\n",
    "plt.figure(1)\n",
    "plt.plot([0, 1], [0, 1], 'k--')\n",
    "plt.plot(fpr, tpr, label='')\n",
    "plt.xlabel('False positive rate')\n",
    "plt.ylabel('True positive rate')\n",
    "plt.title('ROC curve')\n",
    "plt.legend(loc='best')\n",
    "plt.show()"
   ]
  }
 ],
 "metadata": {
  "kernelspec": {
   "display_name": "Python 2",
   "language": "python",
   "name": "python2"
  },
  "language_info": {
   "codemirror_mode": {
    "name": "ipython",
    "version": 2
   },
   "file_extension": ".py",
   "mimetype": "text/x-python",
   "name": "python",
   "nbconvert_exporter": "python",
   "pygments_lexer": "ipython2",
   "version": "2.7.6"
  }
 },
 "nbformat": 4,
 "nbformat_minor": 0
}
