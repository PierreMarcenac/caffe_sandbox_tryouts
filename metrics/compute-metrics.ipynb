{
 "cells": [
  {
   "cell_type": "code",
   "execution_count": 2,
   "metadata": {
    "collapsed": false
   },
   "outputs": [
    {
     "name": "stdout",
     "output_type": "stream",
     "text": [
      "Populating the interactive namespace from numpy and matplotlib\n"
     ]
    },
    {
     "name": "stderr",
     "output_type": "stream",
     "text": [
      "WARNING: pylab import has clobbered these variables: ['expand_dims']\n",
      "`%matplotlib` prevents importing * from pylab and numpy\n"
     ]
    }
   ],
   "source": [
    "%pylab inline\n",
    "import numpy as np\n",
    "import matplotlib.pyplot as plt\n",
    "import h5py\n",
    "import lmdb\n",
    "import caffe\n",
    "from eval.inference import infer_to_h5_fixed_dims\n",
    "from iow import read_lmdb, to_lmdb\n",
    "from iow.lmdb_utils import MAP_SZ, IDX_FMT\n",
    "from blobs.mat_utils import expand_dims"
   ]
  },
  {
   "cell_type": "code",
   "execution_count": 3,
   "metadata": {
    "collapsed": false
   },
   "outputs": [
    {
     "data": {
      "text/plain": [
       "[100, 100, 100, 100, 100]"
      ]
     },
     "execution_count": 3,
     "metadata": {},
     "output_type": "execute_result"
    }
   ],
   "source": [
    "def path_to(path):\n",
    "    return base_path + path\n",
    "base_path = '/mnt/scratch/pierre/caffe_sandbox_tryouts/'\n",
    "fpath_net = path_to('learning_curve/prototxt/net1_test.prototxt')\n",
    "fpath_weights = path_to('learning_curve/snapshots/net1_snapshot_iter_10000.caffemodel')\n",
    "fpath_db = path_to('inference/mnist_%s_train_lmdb')\n",
    "fpath_h5 = path_to('inference/db.h5')\n",
    "\n",
    "net = caffe.Net(fpath_net, fpath_weights, caffe.TEST) # or caffe.TRAIN\n",
    "keys = ['data','label', 'score', 'accuracy', 'loss']\n",
    "n = 100\n",
    "\n",
    "infer_to_h5_fixed_dims(net, keys, n, fpath_h5, preserve_batch=True)"
   ]
  },
  {
   "cell_type": "code",
   "execution_count": 4,
   "metadata": {
    "collapsed": false
   },
   "outputs": [],
   "source": [
    "f = h5py.File(fpath_h5, 'r')\n",
    "\n",
    "# True labels\n",
    "y_true = f['label'].value[0]\n",
    "\n",
    "# Predicted labels\n",
    "y_pred = [np.argmax(y) for y in f['score'].value[0]]\n",
    "\n",
    "# Score (~ softmax layer, here to be calculated)\n",
    "def softmax(x):\n",
    "    # Softmax on vector x\n",
    "    e_x = np.exp(x)\n",
    "    return e_x / e_x.sum()\n",
    "def vectorize(scalar, classes):\n",
    "    # Scalar is transformed in a vector with a 1 at position and zeros otherwise\n",
    "    x = np.zeros(len(classes))\n",
    "    x[scalar] = 1\n",
    "    return x\n",
    "y_score = f['score'].value[0]"
   ]
  },
  {
   "cell_type": "code",
   "execution_count": 5,
   "metadata": {
    "collapsed": false
   },
   "outputs": [],
   "source": [
    "# NOTES - IGNORE THIS PARAGRAPH\n",
    "\n",
    "# Method to handle hdf5 db\n",
    "def hdf5_reader(file_name, key):\n",
    "    f = h5py.File(file_name, 'r')\n",
    "    group = f[key]\n",
    "    if isinstance(group, h5py.Dataset):\n",
    "        yield group.value\n",
    "    else:\n",
    "        for key, value in dict(group).iteritems():\n",
    "            datum = caffe.proto.caffe_pb2.Datum()\n",
    "            datum.ParseFromString(value)\n",
    "            label = int(datum.label)\n",
    "            image = caffe.io.datum_to_array(datum).astype(np.uint8)\n",
    "            yield key, flat_shape(image), label\n",
    "# Output a prediction with caffe\n",
    "y_score_ = np.zeros(y_true.shape, dtype=y_true.dtype)\n",
    "for i, x in enumerate(f['data'].value[0]):\n",
    "    net.blobs['data'].data[...] = x\n",
    "    out = net.forward()\n",
    "    y_score_[i] = out['loss']"
   ]
  },
  {
   "cell_type": "code",
   "execution_count": 6,
   "metadata": {
    "collapsed": false
   },
   "outputs": [
    {
     "name": "stderr",
     "output_type": "stream",
     "text": [
      "/mnt/antares_raid/home/pierre/.virtualenvs/pierrenv/lib/python2.7/site-packages/ipykernel/__main__.py:17: DeprecationWarning: using a non-integer number instead of an integer will result in an error in the future\n",
      "/mnt/antares_raid/home/pierre/.virtualenvs/pierrenv/local/lib/python2.7/site-packages/scikit_learn-0.17.1-py2.7-linux-x86_64.egg/sklearn/metrics/ranking.py:538: UndefinedMetricWarning: No positive samples in y_true, true positive value should be meaningless\n",
      "  UndefinedMetricWarning)\n"
     ]
    },
    {
     "data": {
      "image/png": "[encoded data removed]",
      "text/plain": [
       "<matplotlib.figure.Figure at 0x7fcb9c249050>"
      ]
     },
     "metadata": {},
     "output_type": "display_data"
    },
    {
     "name": "stdout",
     "output_type": "stream",
     "text": [
      "Accuracy: 0.99\n",
      "             precision    recall  f1-score   support\n",
      "\n",
      "        0.0       1.00      1.00      1.00         8\n",
      "        1.0       1.00      1.00      1.00        14\n",
      "        2.0       1.00      1.00      1.00         8\n",
      "        3.0       1.00      1.00      1.00        11\n",
      "        4.0       1.00      1.00      1.00        14\n",
      "        5.0       0.88      1.00      0.93         7\n",
      "        6.0       1.00      1.00      1.00        10\n",
      "        7.0       1.00      1.00      1.00        15\n",
      "        8.0       1.00      1.00      1.00         2\n",
      "        9.0       1.00      0.91      0.95        11\n",
      "\n",
      "avg / total       0.99      0.99      0.99       100\n",
      "\n",
      "Confusion matrix:\n",
      "[[ 8  0  0  0  0  0  0  0  0  0]\n",
      " [ 0 14  0  0  0  0  0  0  0  0]\n",
      " [ 0  0  8  0  0  0  0  0  0  0]\n",
      " [ 0  0  0 11  0  0  0  0  0  0]\n",
      " [ 0  0  0  0 14  0  0  0  0  0]\n",
      " [ 0  0  0  0  0  7  0  0  0  0]\n",
      " [ 0  0  0  0  0  0 10  0  0  0]\n",
      " [ 0  0  0  0  0  0  0 15  0  0]\n",
      " [ 0  0  0  0  0  0  0  0  2  0]\n",
      " [ 0  0  0  0  0  1  0  0  0 10]]\n"
     ]
    }
   ],
   "source": [
    "from sklearn.metrics import accuracy_score, roc_curve, auc, classification_report, confusion_matrix\n",
    "classes = range(10) # multi-class classifier\n",
    "\n",
    "# ROC curve\n",
    "fpr = dict()\n",
    "tpr = dict()\n",
    "roc_auc = dict()\n",
    "for class_ in classes:\n",
    "    fpr[class_], tpr[class_], _ = roc_curve(vectorize(y_true[class_], classes), softmax(y_score[class_]), pos_label=class_)\n",
    "    roc_auc[class_] = auc(fpr[class_], tpr[class_])\n",
    "plt.figure()\n",
    "for class_ in classes:\n",
    "    plt.plot(fpr[class_], tpr[class_], label=class_)\n",
    "plt.plot([0, 1], [0, 1], 'k--')\n",
    "plt.xlim([0.0, 1.0])\n",
    "plt.ylim([0.0, 1.05])\n",
    "plt.xlabel('False Positive Rate')\n",
    "plt.ylabel('True Positive Rate')\n",
    "plt.title('')\n",
    "plt.legend(loc=\"lower right\")\n",
    "plt.show()\n",
    "\n",
    "# Accuracy\n",
    "accuracy = accuracy_score(y_true, y_pred)\n",
    "print \"Accuracy:\", accuracy\n",
    "\n",
    "# Precision/recall\n",
    "report = classification_report(y_true, y_pred)\n",
    "print report\n",
    "\n",
    "# Confusion matrix\n",
    "confusion = confusion_matrix(y_true, y_pred, labels=classes)\n",
    "print \"Confusion matrix:\\n\", confusion"
   ]
  },
  {
   "cell_type": "code",
   "execution_count": null,
   "metadata": {
    "collapsed": true
   },
   "outputs": [],
   "source": []
  }
 ],
 "metadata": {
  "kernelspec": {
   "display_name": "Python 2",
   "language": "python",
   "name": "python2"
  },
  "language_info": {
   "codemirror_mode": {
    "name": "ipython",
    "version": 2
   },
   "file_extension": ".py",
   "mimetype": "text/x-python",
   "name": "python",
   "nbconvert_exporter": "python",
   "pygments_lexer": "ipython2",
   "version": "2.7.6"
  }
 },
 "nbformat": 4,
 "nbformat_minor": 0
}
