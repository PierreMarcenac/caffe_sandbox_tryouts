{
 "cells": [
  {
   "cell_type": "markdown",
   "metadata": {},
   "source": [
    "# Evaluation measures for multi-label classification"
   ]
  },
  {
   "cell_type": "markdown",
   "metadata": {},
   "source": [
    "We first generate multi-labelled random data. These 12x12 images belong to class $i$ iff the $i$-th row contains one and only one pixel. Images can belong to several classes."
   ]
  },
  {
   "cell_type": "code",
   "execution_count": 1,
   "metadata": {
    "collapsed": false
   },
   "outputs": [
    {
     "name": "stdout",
     "output_type": "stream",
     "text": [
      "Populating the interactive namespace from numpy and matplotlib\n"
     ]
    },
    {
     "name": "stderr",
     "output_type": "stream",
     "text": [
      "/usr/lib/pymodules/python2.7/matplotlib/__init__.py:1173: UserWarning:  This call to matplotlib.use() has no effect\n",
      "because the backend has already been chosen;\n",
      "matplotlib.use() must be called *before* pylab, matplotlib.pyplot,\n",
      "or matplotlib.backends is imported for the first time.\n",
      "\n",
      "  warnings.warn(_use_error_msg)\n"
     ]
    }
   ],
   "source": [
    "%pylab inline\n",
    "import numpy as np\n",
    "import h5py\n",
    "import subprocess\n",
    "import caffe\n",
    "from caffe.proto import caffe_pb2\n",
    "from caffe import layers as L, params as P\n",
    "from nideep.eval.metrics import example_based_measures, label_based_measures, confusion_matrix_per_class, accuracy_per_class, print_dic\n",
    "from nideep.eval.metrics import get_inputs_outputs # A SUPPRIMER\n",
    "from nideep.eval.inference import infer_to_h5_fixed_dims\n",
    "from learning_curve.mnist_train_test import train_test_net_command"
   ]
  },
  {
   "cell_type": "code",
   "execution_count": 2,
   "metadata": {
    "collapsed": false
   },
   "outputs": [],
   "source": [
    "img_size = (12, 12)\n",
    "lbl_size = (12,)\n",
    "\n",
    "nb_train_examples = 82000\n",
    "nb_test_examples = int(1./3 * nb_train_examples)\n",
    "\n",
    "train_db_path = \"db/train.h5\"\n",
    "test_db_path = \"db/test.h5\"\n",
    "\n",
    "def generate_data(img_size, lbl_size, nb_examples, generate_labels=True):\n",
    "    classes = img_size[0]\n",
    "    d, l = [], []\n",
    "    for _ in range(nb_examples):\n",
    "        data = np.zeros(img_size)\n",
    "        nb_pixels = np.random.randint(1, classes)\n",
    "        continue_ = True\n",
    "        while continue_:\n",
    "            row = np.random.randint(classes)\n",
    "            column = np.random.randint(img_size[1])\n",
    "            if sum(data[row,:]) == 0:\n",
    "                data[row, column] = 1\n",
    "            continue_ = np.sum(data) <= nb_pixels\n",
    "        label = np.sum(data, axis=1).reshape(lbl_size)\n",
    "        l.append(label)\n",
    "        d.append([data])\n",
    "    if generate_labels:\n",
    "        return np.array(d), np.array(l)\n",
    "    return np.array([d]), None\n",
    "\n",
    "def save_data(db_path, key_label, key_data, img_size, lbl_size, nb_examples, generate_labels=True):\n",
    "    d, l = generate_data(img_size, lbl_size, nb_examples, generate_labels)\n",
    "    with h5py.File(db_path, 'w') as f:\n",
    "        f.create_dataset(key_data, (nb_examples, 1, 12, 12), dtype=\"float32\")\n",
    "        f[key_data][:] = d\n",
    "        if generate_labels:\n",
    "            f.create_dataset(key_label, (nb_examples, 12), dtype=\"float32\")\n",
    "            f[key_label][:] = l\n",
    "    pass\n",
    "\n",
    "regenerate_data = False\n",
    "\n",
    "if regenerate_data:\n",
    "    save_data(train_db_path, \"label\", \"data\", img_size, lbl_size, nb_train_examples)\n",
    "    save_data(test_db_path, \"label\", \"data\", img_size, lbl_size, nb_test_examples)"
   ]
  },
  {
   "cell_type": "markdown",
   "metadata": {
    "collapsed": true
   },
   "source": [
    "We define a basic convolutional neural network on the generated data. Ouput loss for backpropagation uses the sigmoid cross-entropy."
   ]
  },
  {
   "cell_type": "code",
   "execution_count": 3,
   "metadata": {
    "collapsed": true
   },
   "outputs": [],
   "source": [
    "def net_(hdf5):\n",
    "    n = caffe.NetSpec()\n",
    "    n.data, n.label = L.HDF5Data(batch_size=100, source=hdf5, ntop=2)\n",
    "    n.conv1 = L.Convolution(n.data, kernel_size=1, num_output=50, weight_filler=dict(type='xavier'))\n",
    "    n.pool1 = L.Pooling(n.conv1, kernel_size=2, stride=2, pool=P.Pooling.MAX)\n",
    "    n.relu1 = L.ReLU(n.pool1, in_place=True)\n",
    "    n.conv2 = L.Convolution(n.pool1, kernel_size=1, num_output=50, weight_filler=dict(type='xavier'))\n",
    "    n.pool2 = L.Pooling(n.conv2, kernel_size=2, stride=2, pool=P.Pooling.MAX)\n",
    "    n.relu2 = L.ReLU(n.pool2, in_place=True)\n",
    "    n.fc1 =   L.InnerProduct(n.relu2, num_output=500, weight_filler=dict(type='xavier'))\n",
    "    n.score =   L.InnerProduct(n.fc1, num_output=12, weight_filler=dict(type='xavier'))\n",
    "    n.loss =  L.SigmoidCrossEntropyLoss(n.score, n.label)\n",
    "    n.sigmoid = L.Sigmoid(n.score)\n",
    "    return n.to_proto()\n",
    "\n",
    "def solver_(s, net_prefix, train_net_path, test_net_path, solver_config_path):\n",
    "    # Randomization in training\n",
    "    s.random_seed = 0xCAFFE\n",
    "    # Locations of the train/test networks\n",
    "    s.train_net = train_net_path\n",
    "    s.test_net.append(test_net_path)\n",
    "    s.test_interval = 1000  # Test after every 'test_interval' training iterations.\n",
    "    s.test_iter.append(1000) # Test on 'test_iter' batches each time we test.\n",
    "    s.max_iter = 82000 # Max training iterations\n",
    "    # Type of solver\n",
    "    s.type = \"Nesterov\" # \"SGD\", \"Adam\", and \"Nesterov\"\n",
    "    # Initial learning rate and momentum\n",
    "    s.base_lr = 0.01\n",
    "    s.momentum = 0.9\n",
    "    s.weight_decay = 5e-4\n",
    "    # Learning rate changes\n",
    "    s.lr_policy = 'inv'\n",
    "    s.gamma = 0.0001\n",
    "    s.power = 0.75\n",
    "    # Display current training loss and accuracy every 10 iterations\n",
    "    s.display = 10\n",
    "    # Use GPU to train\n",
    "    s.solver_mode = caffe_pb2.SolverParameter.GPU\n",
    "    # Snapshots\n",
    "    s.snapshot_after_train = True\n",
    "    s.snapshot_prefix = \"snaps/\" + net_prefix\n",
    "    return s"
   ]
  },
  {
   "cell_type": "markdown",
   "metadata": {},
   "source": [
    "We train and solve the given net using caffe."
   ]
  },
  {
   "cell_type": "code",
   "execution_count": 4,
   "metadata": {
    "collapsed": false
   },
   "outputs": [],
   "source": [
    "net_prefix = \"net\"\n",
    "s = caffe_pb2.SolverParameter()\n",
    "\n",
    "# Make prototxts\n",
    "train_net_path = \"proto/train.prototxt\"\n",
    "test_net_path = \"proto/test.prototxt\"\n",
    "solver_config_path = \"proto/solver.prototxt\"\n",
    "with open(train_net_path, \"w\") as f:\n",
    "    f.write(str(net_(\"db/train.txt\")))\n",
    "with open(test_net_path, \"w\") as f:\n",
    "    f.write(str(net_(\"db/test.txt\")))\n",
    "with open(solver_config_path, \"w\") as f:\n",
    "    f.write(str(solver_(s, net_prefix, train_net_path, test_net_path, solver_config_path)))\n",
    "    \n",
    "train_net = False\n",
    "\n",
    "if train_net:\n",
    "    train_test_net_command(solver_config_path)"
   ]
  },
  {
   "cell_type": "markdown",
   "metadata": {},
   "source": [
    "We now make $n$ inferences and store chosen keys in an hdf5 file. We can visualize the data and some useful multi-label evaluation measures are computed and displayed."
   ]
  },
  {
   "cell_type": "code",
   "execution_count": 5,
   "metadata": {
    "collapsed": true
   },
   "outputs": [],
   "source": [
    "# Inference\n",
    "make_inference = False\n",
    "fpath_h5 = \"inf/db.h5\"\n",
    "if make_inference:\n",
    "    net = caffe.Net(train_net_path, \"snaps/net_iter_82000.caffemodel\", caffe.TRAIN) # caffe.TEST or caffe.TRAIN???\n",
    "    keys = [\"data\", \"label\", \"sigmoid\", \"score\"]\n",
    "    n = 1000\n",
    "    x = infer_to_h5_fixed_dims(net, keys, n, fpath_h5, preserve_batch=False)"
   ]
  },
  {
   "cell_type": "code",
   "execution_count": 6,
   "metadata": {
    "collapsed": false
   },
   "outputs": [
    {
     "name": "stdout",
     "output_type": "stream",
     "text": [
      "true labels\n",
      "[[ 0.  1.  1.  0.  1.  0.  1.  0.  0.  1.  0.  0.]\n",
      " [ 1.  1.  1.  1.  1.  1.  1.  1.  1.  1.  1.  1.]\n",
      " [ 0.  0.  1.  0.  1.  0.  0.  0.  0.  0.  0.  0.]]\n",
      "\n",
      "score obtained (%)\n",
      "[[ 69.  70.  69.  69.  71.  71.  71.  71.  40.  39.  38.  40.]\n",
      " [ 82.  83.  83.  83.  94.  95.  95.  95.  94.  94.  94.  94.]\n",
      " [ 23.  23.  24.  23.  24.  23.  23.  23.   8.   8.   8.   8.]]\n",
      "\n",
      "associated predictions\n",
      "[[ 1.  1.  1.  1.  1.  1.  1.  1.  0.  0.  0.  0.]\n",
      " [ 1.  1.  1.  1.  1.  1.  1.  1.  1.  1.  1.  1.]\n",
      " [ 0.  0.  0.  0.  0.  0.  0.  0.  0.  0.  0.  0.]]\n",
      "\n",
      "true image 0\n",
      "\n"
     ]
    },
    {
     "name": "stderr",
     "output_type": "stream",
     "text": [
      "/usr/local/lib/python2.7/dist-packages/IPython/core/formatters.py:92: DeprecationWarning: DisplayFormatter._ipython_display_formatter_default is deprecated: use @default decorator instead.\n",
      "  def _ipython_display_formatter_default(self):\n",
      "/usr/local/lib/python2.7/dist-packages/IPython/core/formatters.py:669: DeprecationWarning: PlainTextFormatter._singleton_printers_default is deprecated: use @default decorator instead.\n",
      "  def _singleton_printers_default(self):\n"
     ]
    },
    {
     "data": {
      "image/png": "[encoded data removed]",
      "text/plain": [
       "<matplotlib.figure.Figure at 0x7fa2a9384ed0>"
      ]
     },
     "metadata": {},
     "output_type": "display_data"
    },
    {
     "name": "stdout",
     "output_type": "stream",
     "text": [
      "true image 1\n",
      "\n"
     ]
    },
    {
     "data": {
      "image/png": "[encoded data removed]",
      "text/plain": [
       "<matplotlib.figure.Figure at 0x7fa2a8169650>"
      ]
     },
     "metadata": {},
     "output_type": "display_data"
    },
    {
     "name": "stdout",
     "output_type": "stream",
     "text": [
      "true image 2\n",
      "\n"
     ]
    },
    {
     "data": {
      "image/png": "[encoded data removed]",
      "text/plain": [
       "<matplotlib.figure.Figure at 0x7fa2a8adae10>"
      ]
     },
     "metadata": {},
     "output_type": "display_data"
    }
   ],
   "source": [
    "# Visualization of data\n",
    "nb = 3\n",
    "key_label = \"label\"\n",
    "key_score = \"sigmoid\"\n",
    "\n",
    "y_true, y_score, y_pred = get_inputs_outputs(fpath_h5, key_label, key_score, threshold=.5)\n",
    "with h5py.File(fpath_h5, \"r\") as f:\n",
    "    img = f[\"data\"][:]\n",
    "\n",
    "print \"true labels\\n\", y_true[:nb,:]\n",
    "print \"\"\n",
    "print \"score obtained (%)\\n\", np.rint(100 * y_score[:nb,:])\n",
    "print \"\"\n",
    "print \"associated predictions\\n\", np.rint(y_pred[:nb,:])\n",
    "print \"\"\n",
    "for i in range(nb):\n",
    "    print \"true image {}\\n\".format(i)\n",
    "    plt.imshow(np.squeeze(img[i]), cmap='gray')\n",
    "    plt.show()"
   ]
  },
  {
   "cell_type": "code",
   "execution_count": 7,
   "metadata": {
    "collapsed": false
   },
   "outputs": [
    {
     "name": "stderr",
     "output_type": "stream",
     "text": [
      "/mnt/antares_raid/home/pierre/.virtualenvs/x/lib/python2.7/site-packages/numpy/core/fromnumeric.py:2652: VisibleDeprecationWarning: `rank` is deprecated; use the `ndim` attribute or function instead. To find the rank of a matrix see `numpy.linalg.matrix_rank`.\n",
      "  VisibleDeprecationWarning)\n"
     ]
    },
    {
     "name": "stdout",
     "output_type": "stream",
     "text": [
      "=====================\n",
      "Example-based measures\n",
      "=====================\n",
      "micro_recall\n",
      "0.803517425937\n",
      "\n",
      "macro_precision\n",
      "0.779951454395\n",
      "\n",
      "macro_recall\n",
      "0.803516032988\n",
      "\n",
      "micro_f1\n",
      "0.791559193917\n",
      "\n",
      "micro_precision\n",
      "0.779951675771\n",
      "\n",
      "macro_f1\n",
      "0.79155680617\n",
      "\n",
      "=====================\n",
      "Label-based measures\n",
      "=====================\n",
      "f1\n",
      "[ 0.79189566  0.78752635  0.79290886  0.79336644  0.79237749  0.79263386\n",
      "  0.79102517  0.79334354  0.79134274  0.79138945  0.79150035  0.78937177]\n",
      "\n",
      "recall\n",
      "[ 0.80317145  0.79919596  0.80561204  0.8069112   0.80519125  0.80466173\n",
      "  0.80224804  0.80462927  0.80084058  0.80551365  0.80309621  0.80112102]\n",
      "\n",
      "accuracy_score\n",
      "0.08609\n",
      "\n",
      "hamming_loss\n",
      "0.247215833333\n",
      "\n",
      "precision\n",
      "[ 0.78093208  0.77619262  0.78060008  0.78026891  0.77996517  0.78096028\n",
      "  0.78011197  0.78237001  0.78206754  0.77775203  0.78023459  0.77796216]\n",
      "\n",
      "=====================\n",
      "Correlation matrices\n",
      "=====================\n",
      "0\n",
      "[[28447 13157]\n",
      " [11494 46902]]\n",
      "\n",
      "1\n",
      "[[28381 13413]\n",
      " [11688 46518]]\n",
      "\n",
      "2\n",
      "[[28233 13250]\n",
      " [11375 47142]]\n",
      "\n",
      "3\n",
      "[[28332 13270]\n",
      " [11276 47122]]\n",
      "\n",
      "4\n",
      "[[28327 13267]\n",
      " [11378 47028]]\n",
      "\n",
      "5\n",
      "[[28274 13207]\n",
      " [11431 47088]]\n",
      "\n",
      "6\n",
      "[[28659 13157]\n",
      " [11506 46678]]\n",
      "\n",
      "7\n",
      "[[28251 13122]\n",
      " [11454 47173]]\n",
      "\n",
      "8\n",
      "[[28407 13062]\n",
      " [11657 46874]]\n",
      "\n",
      "9\n",
      "[[28246 13426]\n",
      " [11344 46984]]\n",
      "\n",
      "10\n",
      "[[28397 13209]\n",
      " [11498 46896]]\n",
      "\n",
      "11\n",
      "[[28102 13380]\n",
      " [11638 46880]]\n",
      "\n"
     ]
    },
    {
     "data": {
      "image/png": "[encoded data removed]",
      "text/plain": [
       "<matplotlib.figure.Figure at 0x7fa33d74f350>"
      ]
     },
     "metadata": {},
     "output_type": "display_data"
    }
   ],
   "source": [
    "# Compute metrics\n",
    "key_label, key_score = \"label\", \"sigmoid\"\n",
    "\n",
    "measures1 = example_based_measures(fpath_h5, key_label, key_score, threshold=.5)\n",
    "measures2 = label_based_measures(fpath_h5, key_label, key_score, threshold=.5)\n",
    "cm = confusion_matrix_per_class(fpath_h5, key_label, key_score, threshold=.5)\n",
    "acc = accuracy_per_class(fpath_h5, key_label, key_score, threshold=.5)\n",
    "\n",
    "# Inline display of measures and confusion matrices for each class\n",
    "print \"=====================\"\n",
    "print \"Example-based measures\"\n",
    "print \"=====================\"\n",
    "print_dic(measures1)\n",
    "print \"=====================\"\n",
    "print \"Label-based measures\"\n",
    "print \"=====================\"\n",
    "print_dic(measures2)\n",
    "print \"=====================\"\n",
    "print \"Correlation matrices\"\n",
    "print \"=====================\"\n",
    "print_dic(cm)\n",
    "\n",
    "# Histogram of accuracies for each class\n",
    "fig, ax = plt.subplots()\n",
    "classes, accuracies = zip(*sorted(acc.items(), key=lambda tup: tup[1]))\n",
    "plt.bar(classes, accuracies)\n",
    "xTickMarks = ['Class'+str(i) for i in classes]\n",
    "ax.set_xticks([x+.5 for x in range(12)])\n",
    "xtickNames = ax.set_xticklabels(xTickMarks)\n",
    "plt.show()"
   ]
  },
  {
   "cell_type": "code",
   "execution_count": null,
   "metadata": {
    "collapsed": true
   },
   "outputs": [],
   "source": []
  }
 ],
 "metadata": {
  "kernelspec": {
   "display_name": "Python 2",
   "language": "python",
   "name": "python2"
  },
  "language_info": {
   "codemirror_mode": {
    "name": "ipython",
    "version": 2
   },
   "file_extension": ".py",
   "mimetype": "text/x-python",
   "name": "python",
   "nbconvert_exporter": "python",
   "pygments_lexer": "ipython2",
   "version": "2.7.6"
  }
 },
 "nbformat": 4,
 "nbformat_minor": 0
}
