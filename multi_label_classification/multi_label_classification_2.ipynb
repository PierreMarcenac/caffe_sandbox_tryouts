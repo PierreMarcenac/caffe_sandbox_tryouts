{
 "cells": [
  {
   "cell_type": "markdown",
   "metadata": {},
   "source": [
    "# Evaluation measures for multi-label classification"
   ]
  },
  {
   "cell_type": "markdown",
   "metadata": {},
   "source": [
    "We first generate multi-labelled random data. These 12x12 images belong to class $i$ iff the $i$-th row contains one and only one pixel. Images can belong to several classes."
   ]
  },
  {
   "cell_type": "code",
   "execution_count": 10,
   "metadata": {
    "collapsed": false
   },
   "outputs": [
    {
     "name": "stdout",
     "output_type": "stream",
     "text": [
      "Populating the interactive namespace from numpy and matplotlib\n"
     ]
    },
    {
     "name": "stderr",
     "output_type": "stream",
     "text": [
      "WARNING: pylab import has clobbered these variables: ['f', 'cm']\n",
      "`%matplotlib` prevents importing * from pylab and numpy\n"
     ]
    }
   ],
   "source": [
    "%pylab inline\n",
    "import numpy as np\n",
    "import h5py\n",
    "import subprocess\n",
    "import caffe\n",
    "from caffe.proto import caffe_pb2\n",
    "from caffe import layers as L, params as P\n",
    "from nideep.eval.metrics import example_based_measures, label_based_measures, confusion_matrix_per_class, accuracy_per_class, print_dic\n",
    "from nideep.eval.metrics import get_inputs_outputs # A SUPPRIMER\n",
    "from nideep.eval.inference import infer_to_h5_fixed_dims\n",
    "from learning_curve.mnist_train_test import train_test_net_command"
   ]
  },
  {
   "cell_type": "code",
   "execution_count": 29,
   "metadata": {
    "collapsed": false,
    "scrolled": true
   },
   "outputs": [
    {
     "name": "stdout",
     "output_type": "stream",
     "text": [
      "Data generation: done\n"
     ]
    }
   ],
   "source": [
    "img_size = (12, 12)\n",
    "lbl_size = (9,)\n",
    "\n",
    "nb_train_examples = 10000\n",
    "nb_test_examples = int(1./3 * nb_train_examples)\n",
    "\n",
    "train_db_path = \"db/train2.h5\"\n",
    "test_db_path = \"db/test2.h5\"\n",
    "\n",
    "epsilon = 0.1 # coefficient before white noise\n",
    "\n",
    "def makeGaussian(size, fwhm = 3, center=None):\n",
    "    x = np.arange(0, size, 1, float)\n",
    "    y = x[:,np.newaxis]\n",
    "    if center is None:\n",
    "        x0 = y0 = size\n",
    "    else:\n",
    "        x0 = center[0]\n",
    "        y0 = center[1]\n",
    "    return np.exp(-4*np.log(2) * ((x-x0)**2 + (y-y0)**2) / fwhm**2)\n",
    "\n",
    "def generate_data(img_size, lbl_size, nb_examples, generate_labels=True):\n",
    "    d, l = [], []\n",
    "    for _ in range(nb_examples):\n",
    "        data = np.zeros(img_size)\n",
    "        label = np.zeros(lbl_size)\n",
    "        nb_blocks = 3 # Number of blocks on a side\n",
    "        block_size = img_size[0]/nb_blocks\n",
    "        nb_pixels = np.random.randint(nb_blocks**2)\n",
    "        while nb_pixels <> 0:\n",
    "            # choose a block dial\n",
    "            dial_x = np.random.randint(nb_blocks)\n",
    "            dial_y = np.random.randint(nb_blocks)\n",
    "            dial = dial_x + nb_blocks*dial_y\n",
    "            # write on label\n",
    "            label[dial] = 1\n",
    "            center_x = np.random.randint(block_size)\n",
    "            center_y = np.random.randint(block_size)\n",
    "            y_beg = block_size*dial_y\n",
    "            y_end = y_beg + block_size\n",
    "            x_beg = block_size*dial_x\n",
    "            x_end = x_beg + block_size\n",
    "            # write on data\n",
    "            gaussian = makeGaussian(block_size,fwhm=2,center=(center_x, center_y))\n",
    "            data[y_beg:y_end, x_beg:x_end] = gaussian\n",
    "            nb_pixels -= 1\n",
    "        l.append(label)\n",
    "        noise = epsilon*np.random.normal(0, 1, img_size)\n",
    "        d.append([data+noise]) # in brackets [] because one chanel only\n",
    "    if generate_labels:\n",
    "        return np.array(d), np.array(l)\n",
    "    return np.array([d]), None\n",
    "\n",
    "def save_data(db_path, key_label, key_data, img_size, lbl_size, nb_examples, generate_labels=True):\n",
    "    d, l = generate_data(img_size, lbl_size, nb_examples, generate_labels)\n",
    "    with h5py.File(db_path, 'w') as f:\n",
    "        f.create_dataset(key_data, (nb_examples, 1, img_size[0], img_size[1]), dtype=\"float32\")\n",
    "        f[key_data][:] = d\n",
    "        if generate_labels:\n",
    "            f.create_dataset(key_label, (nb_examples, lbl_size[0]), dtype=\"float32\")\n",
    "            f[key_label][:] = l\n",
    "    pass\n",
    "\n",
    "regenerate_data = True\n",
    "\n",
    "if regenerate_data:\n",
    "    save_data(train_db_path, \"label\", \"data\", img_size, lbl_size, nb_train_examples)\n",
    "    save_data(test_db_path, \"label\", \"data\", img_size, lbl_size, nb_test_examples)\n",
    "    print \"Data generation: done\""
   ]
  },
  {
   "cell_type": "markdown",
   "metadata": {
    "collapsed": true
   },
   "source": [
    "We define a basic convolutional neural network on the generated data. Ouput loss for backpropagation uses the sigmoid cross-entropy."
   ]
  },
  {
   "cell_type": "code",
   "execution_count": 30,
   "metadata": {
    "collapsed": true
   },
   "outputs": [],
   "source": [
    "def net_(hdf5):\n",
    "    n = caffe.NetSpec()\n",
    "    n.data, n.label = L.HDF5Data(batch_size=100, source=hdf5, ntop=2)\n",
    "    n.conv1 = L.Convolution(n.data, kernel_size=2, num_output=50, weight_filler=dict(type='xavier'))\n",
    "    n.pool1 = L.Pooling(n.conv1, kernel_size=2, stride=2, pool=P.Pooling.MAX)\n",
    "    n.relu1 = L.ReLU(n.pool1, in_place=True)\n",
    "    n.conv2 = L.Convolution(n.pool1, kernel_size=1, num_output=50, weight_filler=dict(type='xavier'))\n",
    "    n.pool2 = L.Pooling(n.conv2, kernel_size=2, stride=2, pool=P.Pooling.MAX)\n",
    "    n.relu2 = L.ReLU(n.pool2, in_place=True)\n",
    "    n.fc1 =   L.InnerProduct(n.relu2, num_output=500, weight_filler=dict(type='xavier'))\n",
    "    n.score =   L.InnerProduct(n.fc1, num_output=lbl_size[0], weight_filler=dict(type='xavier'))\n",
    "    n.loss =  L.SigmoidCrossEntropyLoss(n.score, n.label)\n",
    "    n.sigmoid = L.Sigmoid(n.score)\n",
    "    n.silence = L.Silence(n.sigmoid, ntop=0)\n",
    "    return n.to_proto()\n",
    "\n",
    "def solver_(s, net_prefix, train_net_path, test_net_path, solver_config_path):\n",
    "    # Randomization in training\n",
    "    s.random_seed = 0xCAFFE\n",
    "    # Locations of the train/test networks\n",
    "    s.train_net = train_net_path\n",
    "    s.test_net.append(test_net_path)\n",
    "    s.test_interval = 1000  # Test after every 'test_interval' training iterations.\n",
    "    s.test_iter.append(1000) # Test on 'test_iter' batches each time we test.\n",
    "    s.max_iter = nb_train_examples # Max training iterations\n",
    "    # Type of solver\n",
    "    s.type = \"Nesterov\" # \"SGD\", \"Adam\", and \"Nesterov\"\n",
    "    # Initial learning rate and momentum\n",
    "    s.base_lr = 0.01\n",
    "    s.momentum = 0.9\n",
    "    s.weight_decay = 5e-4\n",
    "    # Learning rate changes\n",
    "    s.lr_policy = 'inv'\n",
    "    s.gamma = 0.0001\n",
    "    s.power = 0.75\n",
    "    # Display current training loss and accuracy every 10 iterations\n",
    "    s.display = 10\n",
    "    # Use GPU to train\n",
    "    s.solver_mode = caffe_pb2.SolverParameter.GPU\n",
    "    # Snapshots\n",
    "    s.snapshot_after_train = True\n",
    "    s.snapshot_prefix = \"snaps/\" + net_prefix\n",
    "    return s"
   ]
  },
  {
   "cell_type": "markdown",
   "metadata": {},
   "source": [
    "We train and solve the given net using caffe."
   ]
  },
  {
   "cell_type": "code",
   "execution_count": 31,
   "metadata": {
    "collapsed": false
   },
   "outputs": [
    {
     "name": "stdout",
     "output_type": "stream",
     "text": [
      "Net training: done\n"
     ]
    }
   ],
   "source": [
    "net_prefix = \"net2\"\n",
    "s = caffe_pb2.SolverParameter()\n",
    "\n",
    "# Make prototxts\n",
    "train_net_path = \"proto/train2.prototxt\"\n",
    "test_net_path = \"proto/test2.prototxt\"\n",
    "solver_config_path = \"proto/solver2.prototxt\"\n",
    "with open(train_net_path, \"w\") as f:\n",
    "    f.write(str(net_(\"db/train2.txt\")))\n",
    "with open(test_net_path, \"w\") as f:\n",
    "    f.write(str(net_(\"db/test2.txt\")))\n",
    "with open(solver_config_path, \"w\") as f:\n",
    "    f.write(str(solver_(s, net_prefix, train_net_path, test_net_path, solver_config_path)))\n",
    "    \n",
    "train_net = True\n",
    "\n",
    "if train_net:\n",
    "    train_test_net_command(solver_config_path)\n",
    "    print \"Net training: done\""
   ]
  },
  {
   "cell_type": "markdown",
   "metadata": {},
   "source": [
    "We now make $n$ inferences and store chosen keys in an hdf5 file. We can visualize the data and some useful multi-label evaluation measures are computed and displayed."
   ]
  },
  {
   "cell_type": "code",
   "execution_count": 32,
   "metadata": {
    "collapsed": false
   },
   "outputs": [
    {
     "name": "stdout",
     "output_type": "stream",
     "text": [
      "Inference: done\n"
     ]
    }
   ],
   "source": [
    "# Inference\n",
    "make_inference = True\n",
    "fpath_h5 = \"inf/db2.h5\"\n",
    "if make_inference:\n",
    "    caffemodel = \"snaps/\"+net_prefix+\"_iter_\"+str(nb_train_examples)+\".caffemodel\"\n",
    "    net = caffe.Net(train_net_path, caffemodel, caffe.TRAIN) # caffe.TEST or caffe.TRAIN???\n",
    "    keys = [\"data\", \"label\", \"sigmoid\", \"score\"]\n",
    "    n = 1000\n",
    "    x = infer_to_h5_fixed_dims(net, keys, n, fpath_h5, preserve_batch=False)\n",
    "    print \"Inference: done\""
   ]
  },
  {
   "cell_type": "code",
   "execution_count": 33,
   "metadata": {
    "collapsed": false
   },
   "outputs": [
    {
     "name": "stdout",
     "output_type": "stream",
     "text": [
      "true labels\n",
      "[[ 0.  1.  0.  0.  1.  0.  0.  1.  0.]\n",
      " [ 1.  0.  1.  0.  1.  1.  1.  1.  1.]\n",
      " [ 0.  0.  0.  1.  0.  1.  0.  1.  0.]]\n",
      "\n",
      "score obtained (%)\n",
      "[[   0.  100.    0.    0.  100.    0.    0.  100.    0.]\n",
      " [ 100.    0.  100.    0.  100.  100.  100.  100.  100.]\n",
      " [   0.    0.    0.  100.    0.  100.    0.  100.    0.]]\n",
      "\n",
      "associated predictions\n",
      "[[ 0.  1.  0.  0.  1.  0.  0.  1.  0.]\n",
      " [ 1.  0.  1.  0.  1.  1.  1.  1.  1.]\n",
      " [ 0.  0.  0.  1.  0.  1.  0.  1.  0.]]\n",
      "\n",
      "true image 0\n",
      "\n"
     ]
    },
    {
     "data": {
      "image/png": "[encoded data removed]",
      "text/plain": [
       "<matplotlib.figure.Figure at 0x7f04743fa650>"
      ]
     },
     "metadata": {},
     "output_type": "display_data"
    },
    {
     "name": "stdout",
     "output_type": "stream",
     "text": [
      "true image 1\n",
      "\n"
     ]
    },
    {
     "data": {
      "image/png": "[encoded data removed]",
      "text/plain": [
       "<matplotlib.figure.Figure at 0x7f04bedf6bd0>"
      ]
     },
     "metadata": {},
     "output_type": "display_data"
    },
    {
     "name": "stdout",
     "output_type": "stream",
     "text": [
      "true image 2\n",
      "\n"
     ]
    },
    {
     "data": {
      "image/png": "[encoded data removed]",
      "text/plain": [
       "<matplotlib.figure.Figure at 0x7f050ccc8210>"
      ]
     },
     "metadata": {},
     "output_type": "display_data"
    }
   ],
   "source": [
    "# Visualization of data\n",
    "nb = 3\n",
    "key_label = \"label\"\n",
    "key_score = \"sigmoid\"\n",
    "\n",
    "y_true, y_score, y_pred = get_inputs_outputs(fpath_h5, key_label, key_score, threshold=.5)\n",
    "with h5py.File(fpath_h5, \"r\") as f:\n",
    "    img = f[\"data\"][:]\n",
    "\n",
    "print \"true labels\\n\", y_true[:nb,:]\n",
    "print \"\"\n",
    "print \"score obtained (%)\\n\", np.rint(100 * y_score[:nb,:])\n",
    "print \"\"\n",
    "print \"associated predictions\\n\", np.rint(y_pred[:nb,:])\n",
    "print \"\"\n",
    "for i in range(nb):\n",
    "    print \"true image {}\\n\".format(i)\n",
    "    plt.imshow(np.squeeze(img[i]), cmap='gray')\n",
    "    plt.show()"
   ]
  },
  {
   "cell_type": "code",
   "execution_count": 34,
   "metadata": {
    "collapsed": false
   },
   "outputs": [
    {
     "name": "stdout",
     "output_type": "stream",
     "text": [
      "=====================\n",
      "Example-based measures\n",
      "=====================\n",
      "micro_recall\n",
      "1.0\n",
      "\n",
      "macro_precision\n",
      "1.0\n",
      "\n",
      "macro_recall\n",
      "1.0\n",
      "\n",
      "micro_f1\n",
      "1.0\n",
      "\n",
      "micro_precision\n",
      "1.0\n",
      "\n",
      "macro_f1\n",
      "1.0\n",
      "\n",
      "=====================\n",
      "Label-based measures\n",
      "=====================\n",
      "f1\n",
      "[ 1.  1.  1.  1.  1.  1.  1.  1.  1.]\n",
      "\n",
      "recall\n",
      "[ 1.  1.  1.  1.  1.  1.  1.  1.  1.]\n",
      "\n",
      "accuracy_score\n",
      "1.0\n",
      "\n",
      "hamming_loss\n",
      "0.0\n",
      "\n",
      "precision\n",
      "[ 1.  1.  1.  1.  1.  1.  1.  1.  1.]\n",
      "\n",
      "=====================\n",
      "Correlation matrices\n",
      "=====================\n",
      "0\n",
      "[[65710     0]\n",
      " [    0 34290]]\n",
      "\n",
      "1\n",
      "[[65560     0]\n",
      " [    0 34440]]\n",
      "\n",
      "2\n",
      "[[65550     0]\n",
      " [    0 34450]]\n",
      "\n",
      "3\n",
      "[[65110     0]\n",
      " [    0 34890]]\n",
      "\n",
      "4\n",
      "[[65860     0]\n",
      " [    0 34140]]\n",
      "\n",
      "5\n",
      "[[64980     0]\n",
      " [    0 35020]]\n",
      "\n",
      "6\n",
      "[[65620     0]\n",
      " [    0 34380]]\n",
      "\n",
      "7\n",
      "[[65250     0]\n",
      " [    0 34750]]\n",
      "\n",
      "8\n",
      "[[64750     0]\n",
      " [    0 35250]]\n",
      "\n",
      "=====================\n",
      "Accuracies\n",
      "=====================\n",
      "(0, 1, 2, 3, 4, 5, 6, 7, 8)\n",
      "(1.0, 1.0, 1.0, 1.0, 1.0, 1.0, 1.0, 1.0, 1.0)\n"
     ]
    },
    {
     "data": {
      "image/png": "[encoded data removed]",
      "text/plain": [
       "<matplotlib.figure.Figure at 0x7f050879b290>"
      ]
     },
     "metadata": {},
     "output_type": "display_data"
    }
   ],
   "source": [
    "# Compute metrics\n",
    "key_label, key_score = \"label\", \"sigmoid\"\n",
    "\n",
    "measures1 = example_based_measures(fpath_h5, key_label, key_score, threshold=.5)\n",
    "measures2 = label_based_measures(fpath_h5, key_label, key_score, threshold=.5)\n",
    "cm = confusion_matrix_per_class(fpath_h5, key_label, key_score, threshold=.5)\n",
    "acc = accuracy_per_class(fpath_h5, key_label, key_score, threshold=.5)\n",
    "\n",
    "# Inline display of measures and confusion matrices for each class\n",
    "print \"=====================\"\n",
    "print \"Example-based measures\"\n",
    "print \"=====================\"\n",
    "print_dic(measures1)\n",
    "print \"=====================\"\n",
    "print \"Label-based measures\"\n",
    "print \"=====================\"\n",
    "print_dic(measures2)\n",
    "print \"=====================\"\n",
    "print \"Correlation matrices\"\n",
    "print \"=====================\"\n",
    "print_dic(cm)\n",
    "\n",
    "# Histogram of accuracies for each class\n",
    "print \"=====================\"\n",
    "print \"Accuracies\"\n",
    "print \"=====================\"\n",
    "fig, ax = plt.subplots()\n",
    "classes_sorted = range(lbl_size[0])\n",
    "classes, accuracies = zip(*sorted(acc.items(), key=lambda tup: tup[1]))\n",
    "print classes\n",
    "print accuracies\n",
    "plt.bar(classes_sorted, accuracies)\n",
    "xTickMarks = ['Class'+str(i) for i in classes]\n",
    "ax.set_xticks([x+.5 for x in classes_sorted])\n",
    "xtickNames = ax.set_xticklabels(xTickMarks)\n",
    "plt.show()"
   ]
  },
  {
   "cell_type": "code",
   "execution_count": null,
   "metadata": {
    "collapsed": true
   },
   "outputs": [],
   "source": []
  }
 ],
 "metadata": {
  "kernelspec": {
   "display_name": "Python 2",
   "language": "python",
   "name": "python2"
  },
  "language_info": {
   "codemirror_mode": {
    "name": "ipython",
    "version": 2
   },
   "file_extension": ".py",
   "mimetype": "text/x-python",
   "name": "python",
   "nbconvert_exporter": "python",
   "pygments_lexer": "ipython2",
   "version": "2.7.6"
  }
 },
 "nbformat": 4,
 "nbformat_minor": 0
}
