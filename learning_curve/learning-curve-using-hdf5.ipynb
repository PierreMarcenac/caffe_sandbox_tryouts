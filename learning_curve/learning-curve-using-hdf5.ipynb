{
 "cells": [
  {
   "cell_type": "markdown",
   "metadata": {},
   "source": [
    "# MNIST classification using a multi-label representation"
   ]
  },
  {
   "cell_type": "code",
   "execution_count": 3,
   "metadata": {
    "collapsed": false
   },
   "outputs": [
    {
     "name": "stderr",
     "output_type": "stream",
     "text": [
      "/mnt/antares_raid/home/pierre/elnath/src/caffe/python/caffe/pycaffe.py:13: RuntimeWarning: to-Python converter for boost::shared_ptr<caffe::Net<float> > already registered; second conversion method ignored.\n",
      "  from ._caffe import Net, SGDSolver, NesterovSolver, AdaGradSolver, \\\n",
      "/mnt/antares_raid/home/pierre/elnath/src/caffe/python/caffe/pycaffe.py:13: RuntimeWarning: to-Python converter for boost::shared_ptr<caffe::Blob<float> > already registered; second conversion method ignored.\n",
      "  from ._caffe import Net, SGDSolver, NesterovSolver, AdaGradSolver, \\\n",
      "/mnt/antares_raid/home/pierre/elnath/src/caffe/python/caffe/pycaffe.py:13: RuntimeWarning: to-Python converter for boost::shared_ptr<caffe::Solver<float> > already registered; second conversion method ignored.\n",
      "  from ._caffe import Net, SGDSolver, NesterovSolver, AdaGradSolver, \\\n"
     ]
    },
    {
     "ename": "ImportError",
     "evalue": "No module named eval_utils",
     "output_type": "error",
     "traceback": [
      "\u001b[1;31m---------------------------------------------------------------------------\u001b[0m",
      "\u001b[1;31mImportError\u001b[0m                               Traceback (most recent call last)",
      "\u001b[1;32m<ipython-input-3-65e68f1c6956>\u001b[0m in \u001b[0;36m<module>\u001b[1;34m()\u001b[0m\n\u001b[0;32m      2\u001b[0m \u001b[1;32mimport\u001b[0m \u001b[0mnumpy\u001b[0m \u001b[1;32mas\u001b[0m \u001b[0mnp\u001b[0m\u001b[1;33m\u001b[0m\u001b[0m\n\u001b[0;32m      3\u001b[0m \u001b[1;32mimport\u001b[0m \u001b[0mparse_log\u001b[0m \u001b[1;32mas\u001b[0m \u001b[0mpl\u001b[0m\u001b[1;33m\u001b[0m\u001b[0m\n\u001b[1;32m----> 4\u001b[1;33m \u001b[1;32mfrom\u001b[0m \u001b[0mcaffe\u001b[0m\u001b[1;33m.\u001b[0m\u001b[0meval_utils\u001b[0m \u001b[1;32mimport\u001b[0m \u001b[0mPhase\u001b[0m\u001b[1;33m\u001b[0m\u001b[0m\n\u001b[0m\u001b[0;32m      5\u001b[0m \u001b[1;32mimport\u001b[0m \u001b[0miow\u001b[0m\u001b[1;33m.\u001b[0m\u001b[0mfile_system_utils\u001b[0m \u001b[1;32mas\u001b[0m \u001b[0mfs\u001b[0m\u001b[1;33m\u001b[0m\u001b[0m\n\u001b[0;32m      6\u001b[0m \u001b[1;32mfrom\u001b[0m \u001b[0mlog_utils\u001b[0m \u001b[1;32mimport\u001b[0m \u001b[0mis_caffe_info_log\u001b[0m\u001b[1;33m\u001b[0m\u001b[0m\n",
      "\u001b[1;31mImportError\u001b[0m: No module named eval_utils"
     ]
    }
   ],
   "source": [
    "import os\n",
    "import numpy as np       \n",
    "import parse_log as pl\n",
    "from caffe.eval_utils import Phase\n",
    "import iow.file_system_utils as fs\n",
    "from log_utils import is_caffe_info_log\n",
    "    \n",
    "def cleanup_caffe_logname(fname):\n",
    "    \n",
    "    fname = fname.replace('log', '')\n",
    "    fname = fname.replace('caffe', '')\n",
    "    fname = fname.replace('.', '')\n",
    "    return fname\n",
    "\n",
    "class LearningCurve(object):\n",
    "    '''\n",
    "    classdocs\n",
    "    '''\n",
    "    def list(self, key, phase=Phase.TEST):\n",
    "                \n",
    "        if phase.lower() == Phase.TEST.lower():\n",
    "            \n",
    "            if 'loss' in key.lower() and 'loss' in self.test_keys:\n",
    "                key = 'loss'\n",
    "            elif 'accuracy' in key.lower() and 'accuracy' in self.test_keys:\n",
    "                key = 'accuracy'\n",
    "                \n",
    "            return np.array([[x[key]] for x in self.test_dict_list])\n",
    "        else:\n",
    "            return np.array([[x[key]] for x in self.train_dict_list])\n",
    "        \n",
    "    def name(self):\n",
    "    \n",
    "        name = os.path.basename(self.path_log)\n",
    "        name, _ = os.path.splitext(name)\n",
    "        return cleanup_caffe_logname(name)\n",
    "    \n",
    "    def parse(self):\n",
    "        \n",
    "        log_data = pl.parse_log(self.path_log)\n",
    "        # allow for backwards compatibility\n",
    "        if len(log_data) == 4:\n",
    "            self.train_dict_list, self.train_keys, self.test_dict_list, self.test_keys = log_data\n",
    "        else:\n",
    "            self.train_dict_list, self.test_dict_list = log_data\n",
    "            if len(self.train_dict_list) > 0:\n",
    "                self.train_keys = self.train_dict_list[0].keys()\n",
    "            else:\n",
    "                self.train_keys = []\n",
    "                \n",
    "            if len(self.test_dict_list) > 0:\n",
    "                self.test_keys = self.test_dict_list[0].keys()\n",
    "            else:\n",
    "                self.test_keys = []\n",
    "\n",
    "        return self.train_keys, self.test_keys\n",
    "\n",
    "    def __init__(self, path_log):\n",
    "        '''\n",
    "        Constructor\n",
    "        '''\n",
    "        self.path_log = path_log\n",
    "        \n",
    "def LearningCurveFromPath(p):\n",
    "    \n",
    "    if os.path.isfile(p):\n",
    "        return LearningCurve(p)\n",
    "    elif os.path.isdir(p):\n",
    "        log_paths = fs.gen_paths(p, func_filter=is_caffe_info_log)\n",
    "        if len(log_paths) > 0:\n",
    "            return LearningCurve(log_paths[-1])\n",
    "        else:\n",
    "            return None\n",
    "    else:\n",
    "        raise IOError(\"%s: No such file or directory\" % (p,))"
   ]
  },
  {
   "cell_type": "code",
   "execution_count": 2,
   "metadata": {
    "collapsed": false
   },
   "outputs": [
    {
     "name": "stderr",
     "output_type": "stream",
     "text": [
      "/mnt/antares_raid/home/pierre/.virtualenvs/pierrenv/local/lib/python2.7/site-packages/matplotlib/font_manager.py:273: UserWarning: Matplotlib is building the font cache using fc-list. This may take a moment.\n",
      "  warnings.warn('Matplotlib is building the font cache using fc-list. This may take a moment.')\n"
     ]
    },
    {
     "name": "stdout",
     "output_type": "stream",
     "text": [
      "Populating the interactive namespace from numpy and matplotlib\n"
     ]
    }
   ],
   "source": [
    "%pylab inline\n",
    "\n",
    "#from eval.learning_curve import LearningCurve\n",
    "#from eval.eval_utils import Phase\n",
    "#import eval.log_utils as lu\n",
    "\n",
    "from pylab import rcParams\n",
    "rcParams['figure.figsize'] = 16, 6\n",
    "rcParams.update({'font.size': 15})\n",
    "\n",
    "def print_learning_curve(net_prefix, log_name, fig_name):\n",
    "\n",
    "    e = LearningCurve(log_name)\n",
    "    e.parse()\n",
    "\n",
    "    for phase in [Phase.TRAIN, Phase.TEST]:\n",
    "        num_iter = e.list('NumIters', phase)\n",
    "        loss = e.list('loss', phase)\n",
    "        plt.plot(num_iter, loss, label='on %s set' % (phase.lower(),))\n",
    "\n",
    "        plt.xlabel('iteration')\n",
    "        # format x-axis ticks\n",
    "        ticks, _ = plt.xticks()\n",
    "        plt.xticks(ticks, [\"%dK\" % int(t/1000) for t in ticks])\n",
    "        plt.ylabel('loss')\n",
    "        plt.title(net_prefix+' on train and test sets')\n",
    "        plt.legend()\n",
    "    plt.savefig(fig_name)"
   ]
  },
  {
   "cell_type": "code",
   "execution_count": null,
   "metadata": {
    "collapsed": false
   },
   "outputs": [],
   "source": [
    "log_name = \"ex\"\n",
    "print_learning_curve(\"net_hdf5\", \"logs/\"+log_name, \"imgs/essai.png\")"
   ]
  },
  {
   "cell_type": "code",
   "execution_count": null,
   "metadata": {
    "collapsed": false
   },
   "outputs": [],
   "source": [
    "import caffe\n",
    "solver = None\n",
    "solver = caffe.SGDSolver(\"prototxt/net_hdf5_solver.prototxt\")\n",
    "\n",
    "print \"Output dimensions:\"\n",
    "print [(k, v[0].data.shape) for k, v in solver.net.params.items()]\n",
    "\n",
    "print \"Weight sizes:\"\n",
    "print [(k, v[0].data.shape) for k, v in solver.net.params.items()]\n",
    "\n",
    "solver.net.forward()\n",
    "solver.net.forward()\n",
    "solver.test_nets[0].forward()\n",
    "print solver.test_nets[0].blobs['score'].data[0,:]\n",
    "\n",
    "# we use a little trick to tile the first eight images\n",
    "imshow(solver.net.blobs['data'].data[:8, 0].transpose(1, 0, 2).reshape(28, 8*28), cmap='gray'); axis('off')\n",
    "print 'Train labels:', [np.argmax(label) for label in solver.net.blobs['label'].data[:8]]"
   ]
  },
  {
   "cell_type": "code",
   "execution_count": null,
   "metadata": {
    "collapsed": true
   },
   "outputs": [],
   "source": []
  }
 ],
 "metadata": {
  "kernelspec": {
   "display_name": "Python 2",
   "language": "python",
   "name": "python2"
  },
  "language_info": {
   "codemirror_mode": {
    "name": "ipython",
    "version": 2
   },
   "file_extension": ".py",
   "mimetype": "text/x-python",
   "name": "python",
   "nbconvert_exporter": "python",
   "pygments_lexer": "ipython2",
   "version": "2.7.6"
  }
 },
 "nbformat": 4,
 "nbformat_minor": 0
}
